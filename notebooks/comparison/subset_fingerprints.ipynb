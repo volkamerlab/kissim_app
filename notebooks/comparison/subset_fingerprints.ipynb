{
 "cells": [
  {
   "cell_type": "markdown",
   "id": "089c4108-2acb-4ad6-b4ac-b4221fbfa7cc",
   "metadata": {},
   "source": [
    "# Subsetting fingerprints"
   ]
  },
  {
   "cell_type": "code",
   "execution_count": 1,
   "id": "f7a29306-1062-4b58-bdfd-616b5aa6dc65",
   "metadata": {},
   "outputs": [
    {
     "data": {
      "application/vnd.jupyter.widget-view+json": {
       "model_id": "8d480e5bafad4e6f9af3c97fe55dd6ad",
       "version_major": 2,
       "version_minor": 0
      },
      "text/plain": []
     },
     "metadata": {},
     "output_type": "display_data"
    }
   ],
   "source": [
    "from pathlib import Path\n",
    "\n",
    "import numpy as np\n",
    "\n",
    "from kissim.encoding import FingerprintGenerator\n",
    "from kissim.comparison import FingerprintDistanceGenerator"
   ]
  },
  {
   "cell_type": "code",
   "execution_count": 2,
   "id": "4ad7009b-3eae-42c0-ac34-5ea00514cc59",
   "metadata": {},
   "outputs": [],
   "source": [
    "HERE = Path(_dh[-1])  # noqa: F821\n",
    "RESULTS = HERE / \"../../results/dfg_out\""
   ]
  },
  {
   "cell_type": "markdown",
   "id": "e4770bda-e201-4e87-91a2-e1ac1d263528",
   "metadata": {},
   "source": [
    "## Residue subsets"
   ]
  },
  {
   "cell_type": "code",
   "execution_count": 3,
   "id": "531b1c41-4757-41b4-9b84-a9af0c65c15b",
   "metadata": {},
   "outputs": [],
   "source": [
    "selected_residue_ixs = {\n",
    "    \"dfg_all\": [1,2,3,4,5,6,7,8,9,10,11,12,13,15,16,17,19,20,21,23,24,25,27,28,31,35,36,37,38,41,43,44,45,46,47,48,49,50,51,52,53,54,55,56,59,60,61,64,66,67,68,69,70,72,74,75,76,77,79,80,81,82,83,84,85],\n",
    "    \"dfg_in\": [1,2,3,4,5,6,7,8,9,10,11,12,13,15,16,17,19,20,21,24,25,27,28,36,37,38,43,44,45,46,47,48,49,50,51,52,54,55,59,70,72,74,75,76,77,80,81,82,83,84,85],\n",
    "    \"dfg_out\": [3,4,5,6,7,8,9,11,12,13,15,16,17,19,20,21,23,24,25,27,28,31,35,36,37,38,43,44,45,46,47,48,49,50,51,52,54,55,60,61,64,66,67,68,69,70,74,75,77,79,80,81,82,83,84,85],\n",
    "}"
   ]
  },
  {
   "cell_type": "code",
   "execution_count": 4,
   "id": "8482ad8c-563e-4d79-9745-086031e8c5b8",
   "metadata": {},
   "outputs": [
    {
     "data": {
      "text/plain": [
       "{'dfg_all': 65, 'dfg_in': 51, 'dfg_out': 56}"
      ]
     },
     "execution_count": 4,
     "metadata": {},
     "output_type": "execute_result"
    }
   ],
   "source": [
    "{k: len(v) for k, v in selected_residue_ixs.items()}"
   ]
  },
  {
   "cell_type": "markdown",
   "id": "6ed0e0ca-94db-487f-bcd4-0cb31180daf8",
   "metadata": {},
   "source": [
    "## Load fingerprints"
   ]
  },
  {
   "cell_type": "code",
   "execution_count": 5,
   "id": "f1a40a80-8ed7-47b0-8bd6-3eadd5966fcd",
   "metadata": {},
   "outputs": [
    {
     "name": "stdout",
     "output_type": "stream",
     "text": [
      "484\n",
      "{1032}\n"
     ]
    }
   ],
   "source": [
    "fingerprints = FingerprintGenerator.from_json(RESULTS / \"fingerprints.json\")\n",
    "print(len(fingerprints.data))\n",
    "print(set([len(v.values_array()) for k, v in fingerprints.data.items()]))"
   ]
  },
  {
   "cell_type": "markdown",
   "id": "81ae2b35-5abb-4cf0-ba7d-64308c80ef42",
   "metadata": {},
   "source": [
    "## `kissim` pipeline with subset fingerprints"
   ]
  },
  {
   "cell_type": "code",
   "execution_count": 6,
   "id": "f0c447d5-a918-49ea-8b35-dc0994ebdf38",
   "metadata": {},
   "outputs": [],
   "source": [
    "def subset_fingerprint_generator(fingerprints, selected_residue_ixs):\n",
    "    \n",
    "    selected_residue_ixs = [i - 1 for i in selected_residue_ixs]\n",
    "\n",
    "    for id_, fp in fingerprints.data.items():\n",
    "        fp_dict = {}\n",
    "        for feature_name1, features1 in fp.values_dict.items():\n",
    "            fp_dict[feature_name1] = {}\n",
    "            if feature_name1 == \"physicochemical\":\n",
    "                for feature_name2, features2 in features1.items():\n",
    "                    fp_dict[feature_name1][feature_name2] = np.array(features2)[selected_residue_ixs].tolist()\n",
    "            else:\n",
    "                for feature_name2, features2 in features1.items():\n",
    "                    fp_dict[feature_name1][feature_name2] = {}\n",
    "                    if feature_name2 == \"distances\":\n",
    "                        for feature_name3, features3 in features2.items():\n",
    "                            fp_dict[feature_name1][feature_name2][feature_name3] = np.array(features3)[selected_residue_ixs].tolist()\n",
    "                    else:\n",
    "                        fp_dict[feature_name1][feature_name2] = {}\n",
    "                        for feature_name3, features3 in features2.items():\n",
    "                            fp_dict[feature_name1][feature_name2][feature_name3] = np.array(features3)\n",
    "\n",
    "        fp.values_dict = fp_dict\n",
    "        fp.residue_ids = np.array(fp.residue_ids)[selected_residue_ixs].tolist()\n",
    "        fp.residue_ixs = np.array(fp.residue_ixs)[selected_residue_ixs].tolist()\n",
    "        \n",
    "        fingerprints.data[id_] = fp\n",
    "\n",
    "    return fingerprints"
   ]
  },
  {
   "cell_type": "code",
   "execution_count": 7,
   "id": "ff552314-ca43-4ed7-87cf-a46d0d9e45fe",
   "metadata": {},
   "outputs": [
    {
     "name": "stdout",
     "output_type": "stream",
     "text": [
      "484\n",
      "{624}\n"
     ]
    }
   ],
   "source": [
    "fps_subset = subset_fingerprint_generator(fingerprints, selected_residue_ixs = selected_residue_ixs[\"dfg_in\"])\n",
    "print(len(fps_subset.data))\n",
    "print(set([len(v.values_array()) for k, v in fps_subset.data.items()]))"
   ]
  },
  {
   "cell_type": "raw",
   "id": "7c5f526e-334d-4f75-b56d-324a9705f063",
   "metadata": {},
   "source": [
    "%%time\n",
    "d_subset = FingerprintDistanceGenerator.from_fingerprint_generator(fps_subset)\n",
    "d_subset.data"
   ]
  },
  {
   "cell_type": "code",
   "execution_count": null,
   "id": "425cf3a7-c8aa-4e25-a8af-c6d9d22ed12c",
   "metadata": {},
   "outputs": [],
   "source": []
  }
 ],
 "metadata": {
  "kernelspec": {
   "display_name": "Python 3",
   "language": "python",
   "name": "python3"
  },
  "language_info": {
   "codemirror_mode": {
    "name": "ipython",
    "version": 3
   },
   "file_extension": ".py",
   "mimetype": "text/x-python",
   "name": "python",
   "nbconvert_exporter": "python",
   "pygments_lexer": "ipython3",
   "version": "3.9.5"
  },
  "widgets": {
   "application/vnd.jupyter.widget-state+json": {
    "state": {
     "8d480e5bafad4e6f9af3c97fe55dd6ad": {
      "model_module": "nglview-js-widgets",
      "model_module_version": "3.0.1",
      "model_name": "ColormakerRegistryModel",
      "state": {
       "_msg_ar": [],
       "_msg_q": [],
       "_ready": true,
       "layout": "IPY_MODEL_dc2d7ae96ff74e548a6bbb135467722e"
      }
     },
     "dc2d7ae96ff74e548a6bbb135467722e": {
      "model_module": "@jupyter-widgets/base",
      "model_module_version": "1.2.0",
      "model_name": "LayoutModel",
      "state": {}
     }
    },
    "version_major": 2,
    "version_minor": 0
   }
  }
 },
 "nbformat": 4,
 "nbformat_minor": 5
}
